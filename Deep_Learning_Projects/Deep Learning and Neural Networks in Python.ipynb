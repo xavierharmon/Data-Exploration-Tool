{
 "cells": [
  {
   "cell_type": "markdown",
   "metadata": {},
   "source": [
    "Data Scientist at an e-commerce store\n",
    "Predict User Actions on the site\n",
    "Direct Monetary Impact\n",
    "    predict bounce\n",
    "    discover areas of the site that are weak\n",
    "    Mobile/user friendliness\n",
    "    Make Data Driven Decisions\n",
    "    Use Science to improve user experience"
   ]
  },
  {
   "cell_type": "code",
   "execution_count": 7,
   "metadata": {},
   "outputs": [],
   "source": [
    "import pandas as pd\n",
    "import numpy as np\n",
    "import math"
   ]
  },
  {
   "cell_type": "code",
   "execution_count": 8,
   "metadata": {},
   "outputs": [
    {
     "data": {
      "text/html": [
       "<div>\n",
       "<style scoped>\n",
       "    .dataframe tbody tr th:only-of-type {\n",
       "        vertical-align: middle;\n",
       "    }\n",
       "\n",
       "    .dataframe tbody tr th {\n",
       "        vertical-align: top;\n",
       "    }\n",
       "\n",
       "    .dataframe thead th {\n",
       "        text-align: right;\n",
       "    }\n",
       "</style>\n",
       "<table border=\"1\" class=\"dataframe\">\n",
       "  <thead>\n",
       "    <tr style=\"text-align: right;\">\n",
       "      <th></th>\n",
       "      <th>is_mobile</th>\n",
       "      <th>n_products_viewed</th>\n",
       "      <th>visit_duration</th>\n",
       "      <th>is_returning_visitor</th>\n",
       "      <th>time_of_day</th>\n",
       "      <th>user_action</th>\n",
       "    </tr>\n",
       "  </thead>\n",
       "  <tbody>\n",
       "    <tr>\n",
       "      <th>0</th>\n",
       "      <td>1</td>\n",
       "      <td>0</td>\n",
       "      <td>0.657510</td>\n",
       "      <td>0</td>\n",
       "      <td>3</td>\n",
       "      <td>0</td>\n",
       "    </tr>\n",
       "    <tr>\n",
       "      <th>1</th>\n",
       "      <td>1</td>\n",
       "      <td>1</td>\n",
       "      <td>0.568571</td>\n",
       "      <td>0</td>\n",
       "      <td>2</td>\n",
       "      <td>1</td>\n",
       "    </tr>\n",
       "    <tr>\n",
       "      <th>2</th>\n",
       "      <td>1</td>\n",
       "      <td>0</td>\n",
       "      <td>0.042246</td>\n",
       "      <td>1</td>\n",
       "      <td>1</td>\n",
       "      <td>0</td>\n",
       "    </tr>\n",
       "    <tr>\n",
       "      <th>3</th>\n",
       "      <td>1</td>\n",
       "      <td>1</td>\n",
       "      <td>1.659793</td>\n",
       "      <td>1</td>\n",
       "      <td>1</td>\n",
       "      <td>2</td>\n",
       "    </tr>\n",
       "    <tr>\n",
       "      <th>4</th>\n",
       "      <td>0</td>\n",
       "      <td>1</td>\n",
       "      <td>2.014745</td>\n",
       "      <td>1</td>\n",
       "      <td>1</td>\n",
       "      <td>2</td>\n",
       "    </tr>\n",
       "    <tr>\n",
       "      <th>...</th>\n",
       "      <td>...</td>\n",
       "      <td>...</td>\n",
       "      <td>...</td>\n",
       "      <td>...</td>\n",
       "      <td>...</td>\n",
       "      <td>...</td>\n",
       "    </tr>\n",
       "    <tr>\n",
       "      <th>495</th>\n",
       "      <td>1</td>\n",
       "      <td>3</td>\n",
       "      <td>0.731594</td>\n",
       "      <td>0</td>\n",
       "      <td>0</td>\n",
       "      <td>2</td>\n",
       "    </tr>\n",
       "    <tr>\n",
       "      <th>496</th>\n",
       "      <td>0</td>\n",
       "      <td>0</td>\n",
       "      <td>6.368775</td>\n",
       "      <td>1</td>\n",
       "      <td>3</td>\n",
       "      <td>0</td>\n",
       "    </tr>\n",
       "    <tr>\n",
       "      <th>497</th>\n",
       "      <td>0</td>\n",
       "      <td>0</td>\n",
       "      <td>0.172853</td>\n",
       "      <td>1</td>\n",
       "      <td>3</td>\n",
       "      <td>0</td>\n",
       "    </tr>\n",
       "    <tr>\n",
       "      <th>498</th>\n",
       "      <td>1</td>\n",
       "      <td>0</td>\n",
       "      <td>0.209964</td>\n",
       "      <td>0</td>\n",
       "      <td>3</td>\n",
       "      <td>0</td>\n",
       "    </tr>\n",
       "    <tr>\n",
       "      <th>499</th>\n",
       "      <td>0</td>\n",
       "      <td>0</td>\n",
       "      <td>2.616882</td>\n",
       "      <td>1</td>\n",
       "      <td>3</td>\n",
       "      <td>0</td>\n",
       "    </tr>\n",
       "  </tbody>\n",
       "</table>\n",
       "<p>500 rows × 6 columns</p>\n",
       "</div>"
      ],
      "text/plain": [
       "     is_mobile  n_products_viewed  visit_duration  is_returning_visitor  \\\n",
       "0            1                  0        0.657510                     0   \n",
       "1            1                  1        0.568571                     0   \n",
       "2            1                  0        0.042246                     1   \n",
       "3            1                  1        1.659793                     1   \n",
       "4            0                  1        2.014745                     1   \n",
       "..         ...                ...             ...                   ...   \n",
       "495          1                  3        0.731594                     0   \n",
       "496          0                  0        6.368775                     1   \n",
       "497          0                  0        0.172853                     1   \n",
       "498          1                  0        0.209964                     0   \n",
       "499          0                  0        2.616882                     1   \n",
       "\n",
       "     time_of_day  user_action  \n",
       "0              3            0  \n",
       "1              2            1  \n",
       "2              1            0  \n",
       "3              1            2  \n",
       "4              1            2  \n",
       "..           ...          ...  \n",
       "495            0            2  \n",
       "496            3            0  \n",
       "497            3            0  \n",
       "498            3            0  \n",
       "499            3            0  \n",
       "\n",
       "[500 rows x 6 columns]"
      ]
     },
     "execution_count": 8,
     "metadata": {},
     "output_type": "execute_result"
    }
   ],
   "source": [
    "data = pd.read_csv(r'/Users/prof/Documents/machine_learning_examples/ann_logistic_extra/ecommerce_data.csv')\n",
    "data"
   ]
  },
  {
   "cell_type": "markdown",
   "metadata": {},
   "source": [
    "is_mobile - is user visiting site on a mobile device\n",
    "n_products_viewed - number of products user viewed during their session\n",
    "visit_duration - Length of time in minutes user was on the site\n",
    "is_returning_Visitor - 0 if new user, 1 if returning user\n",
    "time_of_day - encoded, 0 = 12am to 6am, 1 = 6 am 12pm, 2 = 12pm to 6pm, 3 = 6pm to 12am\n",
    "user_action - bounce, add_to_cart, begin_checkout, finish_checkout"
   ]
  },
  {
   "cell_type": "markdown",
   "metadata": {},
   "source": [
    "# Feedforward Example one subject two inputs"
   ]
  },
  {
   "cell_type": "code",
   "execution_count": 9,
   "metadata": {},
   "outputs": [],
   "source": [
    "X = [[0,3.5],[1,2],[1,0.5]] #Data\n",
    "Y = [1,1,0] #Actual Response\n",
    "W = [[0.5,0.1,-0.3],[0.7, -0.3, 0.2]] #Weights\n",
    "Wt = np.transpose(W)\n",
    "b = [0.4, 0.1, 0]\n",
    "v = [0.8, 0.1, -0.1]\n",
    "c = 0.2"
   ]
  },
  {
   "cell_type": "code",
   "execution_count": 10,
   "metadata": {},
   "outputs": [],
   "source": [
    "activation_Z1 = np.dot(Wt,X[0])\n",
    "activation_Z2 = np.dot(Wt,X[1])\n",
    "activation_Z3 = np.dot(Wt,X[2])"
   ]
  },
  {
   "cell_type": "code",
   "execution_count": 11,
   "metadata": {},
   "outputs": [],
   "source": [
    "a1 = activation_Z1[0]+b[0]\n",
    "a2 = activation_Z1[1]+b[1]\n",
    "a3 = activation_Z1[2]+b[2]"
   ]
  },
  {
   "cell_type": "code",
   "execution_count": 12,
   "metadata": {},
   "outputs": [],
   "source": [
    "def tanh(value):\n",
    "    z = (math.exp(value) - math.exp(-value)) / (math.exp(value) + math.exp(-value))\n",
    "    return z"
   ]
  },
  {
   "cell_type": "code",
   "execution_count": 13,
   "metadata": {},
   "outputs": [],
   "source": [
    "def sigm(value1, value2, value3):\n",
    "    zvalues = [value1, value2, value3]\n",
    "    inner = np.dot([value1,value1,value1], v) + c\n",
    "    sigmoid = 1 / (1+math.exp(-inner))\n",
    "    return sigmoid"
   ]
  },
  {
   "cell_type": "code",
   "execution_count": 14,
   "metadata": {},
   "outputs": [],
   "source": [
    "z1 = tanh(a1)\n",
    "z2 = tanh(a2)\n",
    "z3 = tanh(a3)"
   ]
  },
  {
   "cell_type": "code",
   "execution_count": 15,
   "metadata": {},
   "outputs": [
    {
     "data": {
      "text/plain": [
       "0.7300082255276845"
      ]
     },
     "execution_count": 15,
     "metadata": {},
     "output_type": "execute_result"
    }
   ],
   "source": [
    "sigm(z1,z2,z3)"
   ]
  },
  {
   "cell_type": "markdown",
   "metadata": {},
   "source": [
    "# Feedforward Multi Samples"
   ]
  },
  {
   "cell_type": "code",
   "execution_count": 16,
   "metadata": {},
   "outputs": [],
   "source": [
    "def Hidden_layer(variables, weights): \n",
    "    z_vars = []\n",
    "    for i in range(3):\n",
    "        z_init = []\n",
    "        for j in range(3):\n",
    "            globals()['activate_'+str(i)+str(j)] = np.dot(X[i],Wt[j])+b[j]\n",
    "            globals()['z'+str(i)+str(j)] = ((math.exp(globals()['activate_'+str(i)+str(j)]))- math.exp(-globals()['activate_'+str(i)+str(j)]))/((math.exp(globals()['activate_'+str(i)+str(j)])) + math.exp(-globals()['activate_'+str(i)+str(j)]))\n",
    "            \n",
    "            z_init.append(globals()['z'+str(i)+str(j)])\n",
    "        z_vars.append(z_init)\n",
    "    return z_vars"
   ]
  },
  {
   "cell_type": "code",
   "execution_count": 17,
   "metadata": {},
   "outputs": [],
   "source": [
    "def predict_y(z_val, v_val, c_val):\n",
    "    y_all = []\n",
    "    for i in range(3):\n",
    "        y = sigm(z_val[i], v_val, c_val)\n",
    "        y_all.append(y)\n",
    "    return y_all"
   ]
  },
  {
   "cell_type": "code",
   "execution_count": 18,
   "metadata": {
    "scrolled": true
   },
   "outputs": [],
   "source": [
    "def sigm(inputvals, v_vals, c_val):\n",
    "    inner = np.dot(inputvals, v_vals) + c_val\n",
    "    sigmoid = 1 / (1+math.exp(-inner))\n",
    "    return sigmoid"
   ]
  },
  {
   "cell_type": "code",
   "execution_count": 19,
   "metadata": {},
   "outputs": [
    {
     "data": {
      "text/plain": [
       "[[0.9933303853851733, -0.7397830512740043, 0.6043677771171636],\n",
       " [0.9800963962661914, -0.37994896225522484, 0.0996679946249559],\n",
       " [0.8482836399575129, 0.049958374957880004, -0.19737532022490403]]"
      ]
     },
     "execution_count": 19,
     "metadata": {},
     "output_type": "execute_result"
    }
   ],
   "source": [
    "z_factors = Hidden_layer(X,W)\n",
    "z_factors"
   ]
  },
  {
   "cell_type": "code",
   "execution_count": 20,
   "metadata": {},
   "outputs": [
    {
     "data": {
      "text/plain": [
       "[0.7027127220576921, 0.7183143232075594, 0.7116395517123809]"
      ]
     },
     "execution_count": 20,
     "metadata": {},
     "output_type": "execute_result"
    }
   ],
   "source": [
    "predict_y(z_factors, v, c)"
   ]
  },
  {
   "cell_type": "code",
   "execution_count": null,
   "metadata": {},
   "outputs": [],
   "source": []
  },
  {
   "cell_type": "code",
   "execution_count": null,
   "metadata": {},
   "outputs": [],
   "source": []
  },
  {
   "cell_type": "markdown",
   "metadata": {},
   "source": [
    "# Generate an Encoded Matrix"
   ]
  },
  {
   "cell_type": "code",
   "execution_count": 99,
   "metadata": {},
   "outputs": [],
   "source": [
    "def convert_numbered_targets_to_indicator_matrix(yin):\n",
    "    N = len(yin)\n",
    "    K = max(yin) + 1\n",
    "    z = (N, K)\n",
    "    Yout = np.zeros(z)\n",
    "    for n in range(N):\n",
    "        Yout[n,yin[n]] = 1\n",
    "    return Yout"
   ]
  },
  {
   "cell_type": "code",
   "execution_count": 100,
   "metadata": {},
   "outputs": [
    {
     "data": {
      "text/plain": [
       "array([[1., 0., 0., 0., 0., 0.],\n",
       "       [0., 0., 0., 0., 0., 1.],\n",
       "       [0., 1., 0., 0., 0., 0.],\n",
       "       [0., 0., 0., 1., 0., 0.],\n",
       "       [0., 1., 0., 0., 0., 0.],\n",
       "       [0., 0., 0., 0., 1., 0.],\n",
       "       [0., 0., 1., 0., 0., 0.],\n",
       "       [1., 0., 0., 0., 0., 0.]])"
      ]
     },
     "execution_count": 100,
     "metadata": {},
     "output_type": "execute_result"
    }
   ],
   "source": [
    "convert_numbered_targets_to_indicator_matrix([0,5,1,3,1,4,2,0])"
   ]
  },
  {
   "cell_type": "code",
   "execution_count": 129,
   "metadata": {},
   "outputs": [
    {
     "data": {
      "text/plain": [
       "2.8499999999999996"
      ]
     },
     "execution_count": 129,
     "metadata": {},
     "output_type": "execute_result"
    }
   ],
   "source": [
    "a1"
   ]
  },
  {
   "cell_type": "code",
   "execution_count": null,
   "metadata": {},
   "outputs": [],
   "source": []
  }
 ],
 "metadata": {
  "kernelspec": {
   "display_name": "Python 3",
   "language": "python",
   "name": "python3"
  },
  "language_info": {
   "codemirror_mode": {
    "name": "ipython",
    "version": 3
   },
   "file_extension": ".py",
   "mimetype": "text/x-python",
   "name": "python",
   "nbconvert_exporter": "python",
   "pygments_lexer": "ipython3",
   "version": "3.8.5"
  }
 },
 "nbformat": 4,
 "nbformat_minor": 4
}
